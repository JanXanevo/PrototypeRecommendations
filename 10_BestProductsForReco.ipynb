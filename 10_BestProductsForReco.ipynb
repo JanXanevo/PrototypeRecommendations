{
  "nbformat": 4,
  "nbformat_minor": 0,
  "metadata": {
    "colab": {
      "provenance": [],
      "machine_shape": "hm",
      "mount_file_id": "1iKXLbhwuvr0DlIDKjJBoOxbq900tELvB",
      "authorship_tag": "ABX9TyPTxGY8kp1KIZLhvQ2JEeVY",
      "include_colab_link": true
    },
    "kernelspec": {
      "name": "python3",
      "display_name": "Python 3"
    },
    "language_info": {
      "name": "python"
    }
  },
  "cells": [
    {
      "cell_type": "markdown",
      "metadata": {
        "id": "view-in-github",
        "colab_type": "text"
      },
      "source": [
        "<a href=\"https://colab.research.google.com/github/JanXanevo/PrototypeRecommendations/blob/main/10_BestProductsForReco.ipynb\" target=\"_parent\"><img src=\"https://colab.research.google.com/assets/colab-badge.svg\" alt=\"Open In Colab\"/></a>"
      ]
    },
    {
      "cell_type": "code",
      "execution_count": null,
      "metadata": {
        "id": "VjzB48zGRybS"
      },
      "outputs": [],
      "source": [
        "import pandas as pd\n",
        "import numpy as np"
      ]
    },
    {
      "cell_type": "markdown",
      "source": [
        "DATEN-IMPORT:"
      ],
      "metadata": {
        "id": "99tlmy7tYEvw"
      }
    },
    {
      "cell_type": "code",
      "source": [
        "# Data\n",
        "dfGarten = pd.read_csv('/content/drive/MyDrive/BAHAG/Data/Garten_WGR_PNK.csv')\n",
        "dfOnline = pd.read_csv('/content/drive/MyDrive/BAHAG/Data/onlineGardenProducts.csv')\n",
        "dfOffline = pd.read_csv('/content/drive/MyDrive/BAHAG/Data/offlineGardenProducts.csv')\n",
        "\n",
        "# Projects PNK\n",
        "dfProjectsOnlinePNK = pd.read_csv('/content/drive/MyDrive/BAHAG/Data/projectsGardenOnline.csv')\n",
        "dfProjectsOfflinePNK = pd.read_csv('/content/drive/MyDrive/BAHAG/Data/projectsGardenOffline.csv')\n",
        "\n",
        "# Projects ProduktNr ?"
      ],
      "metadata": {
        "id": "KgbxdHqlXGWq"
      },
      "execution_count": null,
      "outputs": []
    },
    {
      "cell_type": "code",
      "source": [
        "# online\n",
        "\n",
        "top_PNKOnline = dfOnline['PRODUCT_NAME_CATEGORY'].value_counts().head(40)\n",
        "top_produktNrOnline = dfOnline['produktnr'].value_counts().head(10)\n",
        "top_produktNameOnline = dfOnline['SAP_NAME'].value_counts().head(500)"
      ],
      "metadata": {
        "id": "t5lc9GZ_XRm9"
      },
      "execution_count": null,
      "outputs": []
    },
    {
      "cell_type": "code",
      "source": [
        "# offline\n",
        "\n",
        "top_PNKOffline = dfOffline['PRODUCT_NAME_CATEGORY'].value_counts().head(40)\n",
        "top_produktNrOffline = dfOffline['produktnr'].value_counts().head(10)\n",
        "top_produktNameOffline = dfOffline['SAP_NAME'].value_counts().head(500)"
      ],
      "metadata": {
        "id": "jAHN9CaTXZiS"
      },
      "execution_count": null,
      "outputs": []
    },
    {
      "cell_type": "markdown",
      "source": [
        "ANALYSE:"
      ],
      "metadata": {
        "id": "hgAaEbDaXzsr"
      }
    },
    {
      "cell_type": "code",
      "source": [
        "# Überlappung der Ergebnisse von Online & Offline\n",
        "# Vorsicht: Offline steht hierbei viel stärker im Gewicht bei der Gesamtmenge am Ende\n",
        "\n",
        "# ProduktName\n",
        "set_offlineName = set(top_produktNameOffline.index)\n",
        "set_onlineName = set(top_produktNameOnline.index)\n",
        "\n",
        "overlap_count = {value: dfOffline['SAP_NAME'].isin([value]).sum() + dfOnline['SAP_NAME'].isin([value]).sum() for value in set_offlineName.intersection(set_onlineName)}\n",
        "sorted_overlapName = pd.DataFrame(sorted(overlap_count.items(), key=lambda x: x[1], reverse=True))\n",
        "sorted_overlapName.columns = ['SAP_NAME', 'Anzahl']\n",
        "\n",
        "sorted_overlapName"
      ],
      "metadata": {
        "id": "qvOr23zCXrdx"
      },
      "execution_count": null,
      "outputs": []
    },
    {
      "cell_type": "code",
      "source": [
        "# PNK\n",
        "set_offlinePNK = set(top_PNKOffline.index)\n",
        "set_onlinePNK = set(top_PNKOnline.index)\n",
        "\n",
        "overlap_count = {value: dfOffline['PRODUCT_NAME_CATEGORY'].isin([value]).sum() + dfOnline['PRODUCT_NAME_CATEGORY'].isin([value]).sum() for value in set_offlinePNK.intersection(set_onlinePNK)}\n",
        "sorted_overlapPNK = pd.DataFrame(sorted(overlap_count.items(), key=lambda x: x[1], reverse=True))\n",
        "sorted_overlapPNK.columns = ['Key', 'Anzahl']\n",
        "\n",
        "sorted_overlapPNK"
      ],
      "metadata": {
        "id": "EawAD251XxOx"
      },
      "execution_count": null,
      "outputs": []
    },
    {
      "cell_type": "code",
      "source": [
        "# Erstelle leere Listen für die Überschneidungen, die entsprechenden Keys und Projekte\n",
        "overlap_list = []\n",
        "matching_keys_list = []\n",
        "matching_projects_list = []\n",
        "\n",
        "# Durchlaufe die Zeilen in df2\n",
        "for index, row in dfProjectsOnlinePNK.iterrows():\n",
        "    # Überprüfe auf Überschneidung und speichere die übereinstimmenden Keys\n",
        "    matching_keys = [key for key in sorted_overlapPNK['Key'] if key in row['VerbundeneKnoten']]\n",
        "    overlap = len(matching_keys) > 0\n",
        "\n",
        "    overlap_list.append(overlap)\n",
        "    matching_keys_list.append(matching_keys if overlap else None)\n",
        "\n",
        "    # Wenn eine Überschneidung vorliegt, speichere das Projekt\n",
        "    matching_project = row['Projekt'] if overlap else None\n",
        "    matching_projects_list.append(matching_project)\n",
        "\n",
        "# Füge Spalten mit den Überschneidungen, den entsprechenden Keys und Projekten zum DataFrame 2 hinzu\n",
        "dfProjectsOnlinePNK['is_top_PNK'] = overlap_list\n",
        "dfProjectsOnlinePNK['ÜbereinstimmenderKey'] = matching_keys_list\n",
        "\n",
        "print(dfProjectsOnlinePNK)"
      ],
      "metadata": {
        "id": "FDskoAUWhwNC"
      },
      "execution_count": null,
      "outputs": []
    },
    {
      "cell_type": "code",
      "source": [
        "mergedTest = pd.merge(sorted_overlapName, dfGarten, on='SAP_NAME', how='inner')\n",
        "mergedTest"
      ],
      "metadata": {
        "id": "3g38UgQGv-Rf"
      },
      "execution_count": null,
      "outputs": []
    },
    {
      "cell_type": "code",
      "source": [
        "# Erstelle leere Listen für die Überschneidungen, die entsprechenden Keys und Projekte\n",
        "overlap_list = []\n",
        "matching_keys_list = []\n",
        "matching_projects_list = []\n",
        "\n",
        "# Durchlaufe die Zeilen in df2\n",
        "for index, row in dfProjectsOnlinePNK.iterrows():\n",
        "    # Überprüfe auf Überschneidung und speichere die übereinstimmenden Keys\n",
        "    if row['ÜbereinstimmenderKey'] is not None:\n",
        "        matching_sap_name = mergedTest.loc[mergedTest['PRODUCT_NAME_CATEGORY'].isin(row['ÜbereinstimmenderKey']), 'SAP_NAME']\n",
        "\n",
        "        if not matching_sap_name.empty:\n",
        "            matching_sap_name = matching_sap_name.iloc[0]\n",
        "            overlap = True\n",
        "        else:\n",
        "            matching_sap_name = None\n",
        "            overlap = False\n",
        "\n",
        "        matching_keys_list.append(matching_sap_name if overlap else None)\n",
        "    else:\n",
        "      matching_sap_name = \"\"\n",
        "      matching_keys_list.append(None)\n",
        "      overlap = len(matching_sap_name) > 0\n",
        "\n",
        "    overlap_list.append(overlap)\n",
        "\n",
        "    # Wenn eine Überschneidung vorliegt, speichere das Projekt\n",
        "    matching_project = row['Projekt'] if overlap else None\n",
        "    matching_projects_list.append(matching_project)\n",
        "\n",
        "# Füge Spalten mit den Überschneidungen, den entsprechenden Keys und Projekten zum DataFrame 2 hinzu\n",
        "dfProjectsOnlinePNK['is_top_Product'] = overlap_list\n",
        "dfProjectsOnlinePNK['Produktname'] = matching_keys_list\n",
        "\n",
        "print(dfProjectsOnlinePNK)"
      ],
      "metadata": {
        "id": "UYHv0zGGwt8V"
      },
      "execution_count": null,
      "outputs": []
    },
    {
      "cell_type": "code",
      "source": [
        "mengenanalyse_online = dfProjectsOnlinePNK\n",
        "mengenanalyse_online_path ='/content/drive/My Drive/BAHAG/Data/MengenanalyseOnline.csv'\n",
        "mengenanalyse_online.to_csv(mengenanalyse_online_path, index=False)"
      ],
      "metadata": {
        "id": "Rfha-ESK2lRj"
      },
      "execution_count": null,
      "outputs": []
    },
    {
      "cell_type": "code",
      "source": [
        "# Erstelle leere Listen für die Überschneidungen, die entsprechenden Keys und Projekte\n",
        "overlap_list = []\n",
        "matching_keys_list = []\n",
        "matching_projects_list = []\n",
        "\n",
        "# Durchlaufe die Zeilen in df2\n",
        "for index, row in dfProjectsOfflinePNK.iterrows():\n",
        "    # Überprüfe auf Überschneidung und speichere die übereinstimmenden Keys\n",
        "    matching_keys = [key for key in sorted_overlapPNK['Key'] if key in row['VerbundeneKnoten']]\n",
        "    overlap = len(matching_keys) > 0\n",
        "\n",
        "    overlap_list.append(overlap)\n",
        "    matching_keys_list.append(matching_keys if overlap else None)\n",
        "\n",
        "    # Wenn eine Überschneidung vorliegt, speichere das Projekt\n",
        "    matching_project = row['Projekt'] if overlap else None\n",
        "    matching_projects_list.append(matching_project)\n",
        "\n",
        "# Füge Spalten mit den Überschneidungen, den entsprechenden Keys und Projekten zum DataFrame 2 hinzu\n",
        "dfProjectsOfflinePNK['is_top_PNK'] = overlap_list\n",
        "dfProjectsOfflinePNK['ÜbereinstimmenderKey'] = matching_keys_list\n",
        "\n",
        "print(dfProjectsOfflinePNK)\n",
        "\n",
        "\n",
        "\n",
        "mergedTest = pd.merge(sorted_overlapName, dfGarten, on='SAP_NAME', how='inner')\n",
        "\n",
        "\n",
        "# Erstelle leere Listen für die Überschneidungen, die entsprechenden Keys und Projekte\n",
        "overlap_list = []\n",
        "matching_keys_list = []\n",
        "matching_projects_list = []\n",
        "\n",
        "# Durchlaufe die Zeilen in df2\n",
        "for index, row in dfProjectsOfflinePNK.iterrows():\n",
        "    # Überprüfe auf Überschneidung und speichere die übereinstimmenden Keys\n",
        "    if row['ÜbereinstimmenderKey'] is not None:\n",
        "        matching_sap_name = mergedTest.loc[mergedTest['PRODUCT_NAME_CATEGORY'].isin(row['ÜbereinstimmenderKey']), 'SAP_NAME']\n",
        "\n",
        "        if not matching_sap_name.empty:\n",
        "            matching_sap_name = matching_sap_name.iloc[0]\n",
        "            overlap = True\n",
        "        else:\n",
        "            matching_sap_name = None\n",
        "            overlap = False\n",
        "\n",
        "        matching_keys_list.append(matching_sap_name if overlap else None)\n",
        "    else:\n",
        "      matching_sap_name = \"\"\n",
        "      matching_keys_list.append(None)\n",
        "      overlap = len(matching_sap_name) > 0\n",
        "\n",
        "    overlap_list.append(overlap)\n",
        "\n",
        "    # Wenn eine Überschneidung vorliegt, speichere das Projekt\n",
        "    matching_project = row['Projekt'] if overlap else None\n",
        "    matching_projects_list.append(matching_project)\n",
        "\n",
        "# Füge Spalten mit den Überschneidungen, den entsprechenden Keys und Projekten zum DataFrame 2 hinzu\n",
        "dfProjectsOfflinePNK['is_top_Product'] = overlap_list\n",
        "dfProjectsOfflinePNK['Produktname'] = matching_keys_list\n",
        "\n",
        "print(dfProjectsOfflinePNK)"
      ],
      "metadata": {
        "id": "JfkFmLzJljv0"
      },
      "execution_count": null,
      "outputs": []
    },
    {
      "cell_type": "code",
      "source": [
        "mengenanalyse_offline = dfProjectsOfflinePNK\n",
        "mengenanalyse_offline_path ='/content/drive/My Drive/BAHAG/Data/MengenanalyseOffline.csv'\n",
        "mengenanalyse_offline.to_csv(mengenanalyse_offline_path, index=False)"
      ],
      "metadata": {
        "id": "6ad6SSB4mGnp"
      },
      "execution_count": null,
      "outputs": []
    }
  ]
}