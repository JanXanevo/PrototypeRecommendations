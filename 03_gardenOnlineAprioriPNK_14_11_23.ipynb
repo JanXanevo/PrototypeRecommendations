{
  "nbformat": 4,
  "nbformat_minor": 0,
  "metadata": {
    "colab": {
      "provenance": [],
      "machine_shape": "hm",
      "mount_file_id": "1SJA0E-DWT0LgpCCLVorG4GAk3QZLGhdI",
      "authorship_tag": "ABX9TyPOFKJBcg6Uky0+aYKaFoWq",
      "include_colab_link": true
    },
    "kernelspec": {
      "name": "python3",
      "display_name": "Python 3"
    },
    "language_info": {
      "name": "python"
    }
  },
  "cells": [
    {
      "cell_type": "markdown",
      "metadata": {
        "id": "view-in-github",
        "colab_type": "text"
      },
      "source": [
        "<a href=\"https://colab.research.google.com/github/JanXanevo/PrototypeRecommendations/blob/main/03_gardenOnlineAprioriPNK_14_11_23.ipynb\" target=\"_parent\"><img src=\"https://colab.research.google.com/assets/colab-badge.svg\" alt=\"Open In Colab\"/></a>"
      ]
    },
    {
      "cell_type": "code",
      "execution_count": null,
      "metadata": {
        "id": "08k5mrgwHhN2"
      },
      "outputs": [],
      "source": [
        "import pandas as pd\n",
        "import numpy as np\n",
        "from mlxtend.frequent_patterns import apriori, association_rules"
      ]
    },
    {
      "cell_type": "code",
      "source": [
        "# Gartenprodukte aus online laden\n",
        "df = pd.read_csv('/content/drive/MyDrive/BAHAG/Data/onlineGardenProducts.csv')"
      ],
      "metadata": {
        "id": "c3P-3V1KHu5k"
      },
      "execution_count": null,
      "outputs": []
    },
    {
      "cell_type": "code",
      "source": [
        "df = df.sort_values('hybris_bestellnummer')"
      ],
      "metadata": {
        "id": "XDxMY5oQgfj_"
      },
      "execution_count": null,
      "outputs": []
    },
    {
      "cell_type": "code",
      "source": [
        "# Bestellungen entfernen, welche nur 1 Produkt enthalten\n",
        "\n",
        "df_filtered = df [df['hybris_bestellnummer'].duplicated(keep=False)]"
      ],
      "metadata": {
        "id": "PnFSdeCh5YhP"
      },
      "execution_count": null,
      "outputs": []
    },
    {
      "cell_type": "code",
      "source": [
        "# gruppieren um zu jeder Bestellung eine List von Produkten (hier PNKs) zu erhalten\n",
        "\n",
        "grouped_data = df_filtered.groupby('hybris_bestellnummer')['PRODUCT_NAME_CATEGORY'].apply(list).reset_index()\n",
        "\n",
        "# für Nummern die PNK durch 'produktnr' ersetzen"
      ],
      "metadata": {
        "id": "3Y8H43uXKqmY"
      },
      "execution_count": null,
      "outputs": []
    },
    {
      "cell_type": "code",
      "source": [
        "grouped_data['PRODUCT_NAME_CATEGORY'] = grouped_data['PRODUCT_NAME_CATEGORY'].apply(lambda x: sorted(x))\n"
      ],
      "metadata": {
        "id": "hcLyAwlwJNDd"
      },
      "execution_count": null,
      "outputs": []
    },
    {
      "cell_type": "code",
      "source": [
        "# TransactionEncoder wandelnt die Daten in ein frame aus true false um\n",
        "\n",
        "from mlxtend.preprocessing import TransactionEncoder\n",
        "\n",
        "encoder = TransactionEncoder()\n",
        "\n",
        "encoded_data = encoder.fit(grouped_data['PRODUCT_NAME_CATEGORY']).transform(grouped_data['PRODUCT_NAME_CATEGORY'])"
      ],
      "metadata": {
        "id": "zcZWIUpRUqrx"
      },
      "execution_count": null,
      "outputs": []
    },
    {
      "cell_type": "code",
      "source": [
        "df_encoded = pd.DataFrame(encoded_data, columns = encoder.columns_)"
      ],
      "metadata": {
        "id": "_rSZMwSwYZbZ"
      },
      "execution_count": null,
      "outputs": []
    },
    {
      "cell_type": "code",
      "source": [
        "# apriori algorithmus\n",
        "\n",
        "frequent_itemsets = apriori(df_encoded, min_support=0.004, use_colnames=True)\n",
        "# der min-support bestimmt wie viel support zugegeben wird und ab wann Folgerungen gelistet werden (0,004 --> 0,4% von 323252 = 1293)\n",
        "\n",
        "# Extrahieren der Assoziationsregeln\n",
        "rules = association_rules(frequent_itemsets, metric=\"confidence\", min_threshold=0.2)\n",
        "\n",
        "\n",
        "# zu niedriger treshhold führt im Graphen allerdings zu Verbindung zu vieler Produkte\n",
        "# alternative fp-growth\n",
        "\n",
        "# Anzeigen der Regeln\n",
        "print(rules)"
      ],
      "metadata": {
        "id": "RBdWMEDHm1m2"
      },
      "execution_count": null,
      "outputs": []
    },
    {
      "cell_type": "code",
      "source": [
        "df_rules = pd.DataFrame(rules)\n",
        "df_rules = df_rules[['antecedents','consequents']]"
      ],
      "metadata": {
        "id": "US64HvX5tbwx"
      },
      "execution_count": null,
      "outputs": []
    },
    {
      "cell_type": "code",
      "source": [
        "!pip install networkx"
      ],
      "metadata": {
        "id": "InrT92NaFusQ"
      },
      "execution_count": null,
      "outputs": []
    },
    {
      "cell_type": "code",
      "source": [
        "import networkx as nx\n",
        "import matplotlib.pyplot as plt\n",
        "\n",
        "df_exploded = df_rules.explode('antecedents').explode('consequents')\n",
        "\n",
        "# Erstelle einen gerichteten Graphen\n",
        "G = nx.from_pandas_edgelist(df_exploded, 'antecedents', 'consequents', create_using=nx.Graph())\n",
        "\n",
        "# Durchlaufe den Graphen und erstelle für jede verbundene Komponente eine Zeile im DataFrame\n",
        "components = [set(component) for component in nx.connected_components(G)]\n",
        "df_projects = pd.DataFrame({'Projekt': [f'Projekt{i+1}' for i in range(len(components))],\n",
        "                          'VerbundeneKnoten': components})\n",
        "\n",
        "# Zeige das resultierende DataFrame an\n",
        "print(df_projects)"
      ],
      "metadata": {
        "id": "i0xhc3YIk_nz"
      },
      "execution_count": null,
      "outputs": []
    },
    {
      "cell_type": "code",
      "source": [
        "# Graph visuell anzeigen\n",
        "\n",
        "pos = nx.spring_layout(G)\n",
        "nx.draw(G, pos, with_labels=True, node_size=1000, font_size=5.5)"
      ],
      "metadata": {
        "id": "K3ZNz9g0mfBA"
      },
      "execution_count": null,
      "outputs": []
    },
    {
      "cell_type": "code",
      "source": [
        "# Daten entgruppieren für KG input\n",
        "\n",
        "new_data = []\n",
        "\n",
        "for index, row in df_projects.iterrows():\n",
        "    project = row['Projekt']\n",
        "    connected_nodes = row['VerbundeneKnoten']\n",
        "\n",
        "    for node in connected_nodes:\n",
        "        new_data.append({'Projekt': project, 'VerbundenerKnoten': node})\n",
        "\n",
        "# Neues DataFrame erstellen\n",
        "projects_ungrouped = pd.DataFrame(new_data)\n"
      ],
      "metadata": {
        "id": "aNqxzhS2Pkzz"
      },
      "execution_count": null,
      "outputs": []
    },
    {
      "cell_type": "code",
      "source": [
        "projects_path ='/content/drive/My Drive/BAHAG/Data/projectsGardenOnline.csv'\n",
        "df_projects.to_csv(projects_path, index=False)\n",
        "\n",
        "# projects_ungrouped_path = '/content/drive/My Drive/BAHAG/Data/projectsUngroupedGardenOnline.csv'\n",
        "# projects_ungrouped.to_csv(projects_ungrouped_path, index=False)"
      ],
      "metadata": {
        "id": "35Jbpnxqe3qT"
      },
      "execution_count": null,
      "outputs": []
    }
  ]
}