{
  "nbformat": 4,
  "nbformat_minor": 0,
  "metadata": {
    "colab": {
      "provenance": [],
      "gpuType": "V100",
      "mount_file_id": "1MYK-codiwjmyJjRMF6a0UGvw5yukBZTp",
      "authorship_tag": "ABX9TyOBCHaYmq8OzMoImOAL6cWR",
      "include_colab_link": true
    },
    "kernelspec": {
      "name": "python3",
      "display_name": "Python 3"
    },
    "language_info": {
      "name": "python"
    },
    "accelerator": "GPU"
  },
  "cells": [
    {
      "cell_type": "markdown",
      "metadata": {
        "id": "view-in-github",
        "colab_type": "text"
      },
      "source": [
        "<a href=\"https://colab.research.google.com/github/JanXanevo/PrototypeRecommendations/blob/main/07_dataFilteringGardenOffline_01_12_2023.ipynb\" target=\"_parent\"><img src=\"https://colab.research.google.com/assets/colab-badge.svg\" alt=\"Open In Colab\"/></a>"
      ]
    },
    {
      "cell_type": "code",
      "execution_count": null,
      "metadata": {
        "id": "NKevHymzEMr9"
      },
      "outputs": [],
      "source": [
        "import pandas as pd"
      ]
    },
    {
      "cell_type": "code",
      "source": [
        "# Onlineprodukte aus snowFlakeImport laden\n",
        "df = pd.read_csv('/content/drive/MyDrive/BAHAG/Data/offlineProducts.csv')"
      ],
      "metadata": {
        "id": "6M8iwTSIEbsW"
      },
      "execution_count": null,
      "outputs": []
    },
    {
      "cell_type": "code",
      "source": [
        "from google.colab import drive\n",
        "import os\n",
        "\n",
        "\n",
        "# Warengruppen und PNKs aus dem Gartenbereich laden\n",
        "\n",
        "drive.mount('/content/drive')\n",
        "\n",
        "os.chdir('/content/drive/My Drive/BAHAG/Data')\n",
        "\n",
        "df2 = pd.read_excel('/content/drive/My Drive/BAHAG/Data/Kopie von Garten_WGR_PNK.xlsx')"
      ],
      "metadata": {
        "id": "K1hV3rRfFVih"
      },
      "execution_count": null,
      "outputs": []
    },
    {
      "cell_type": "code",
      "source": [
        "# nur relevante Spalten übernehmen\n",
        "columnSelection = ['VARIANT_PRODUCT', 'SAP_NAME', 'PRODUCT_NAME_CATEGORY', 'MATERIAL_GROUP']\n",
        "\n",
        "# nur Zeilen übernehmen, bei denen Produkt bereits released ist\n",
        "condition = df2['STATUS_DATA_MAINTENANCE'] == \"60_Final release\"\n",
        "\n",
        "df2 = df2[columnSelection][condition]\n"
      ],
      "metadata": {
        "id": "07lpnXbuyHtD"
      },
      "execution_count": null,
      "outputs": []
    },
    {
      "cell_type": "code",
      "source": [
        "# Spalte auf gleichen Namen setzen\n",
        "df2 = df2.rename(columns={'VARIANT_PRODUCT': 'produktnr'})"
      ],
      "metadata": {
        "id": "vd10QGDlJmjx"
      },
      "execution_count": null,
      "outputs": []
    },
    {
      "cell_type": "code",
      "source": [
        "df['produktnr'] = pd.to_numeric(df['produktnr'], errors='coerce')"
      ],
      "metadata": {
        "id": "UQjOVNLAdxk0"
      },
      "execution_count": null,
      "outputs": []
    },
    {
      "cell_type": "code",
      "source": [
        "# Zusammenführen der DataFrames anhand der Spalte \"produktnr\"\n",
        "merged_df = pd.merge(df, df2, on='produktnr', how='inner')\n",
        "\n",
        "# Das Ergebnis ist ein DataFrame, das nur Zeilen enthält, in denen die \"produktnr\" in beiden DataFrames übereinstimmen\n"
      ],
      "metadata": {
        "id": "gILYMSszIMDU"
      },
      "execution_count": null,
      "outputs": []
    },
    {
      "cell_type": "code",
      "source": [
        "merged_df.info()"
      ],
      "metadata": {
        "id": "dRC3T_0Lisdb"
      },
      "execution_count": null,
      "outputs": []
    },
    {
      "cell_type": "code",
      "source": [
        "# Datenset abspeichern für nächsten Verarbeitungsschritt\n",
        "\n",
        "merged_df_path ='/content/drive/My Drive/BAHAG/Data/offlineGardenProducts.csv'\n",
        "merged_df.to_csv(merged_df_path, index=False)"
      ],
      "metadata": {
        "id": "qEO7zdUaBAs_"
      },
      "execution_count": null,
      "outputs": []
    }
  ]
}