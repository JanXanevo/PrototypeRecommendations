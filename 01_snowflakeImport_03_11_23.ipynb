{
  "nbformat": 4,
  "nbformat_minor": 0,
  "metadata": {
    "colab": {
      "provenance": [],
      "machine_shape": "hm",
      "authorship_tag": "ABX9TyNbwtAAThFo16Ok9uIxoViJ",
      "include_colab_link": true
    },
    "kernelspec": {
      "name": "python3",
      "display_name": "Python 3"
    },
    "language_info": {
      "name": "python"
    }
  },
  "cells": [
    {
      "cell_type": "markdown",
      "metadata": {
        "id": "view-in-github",
        "colab_type": "text"
      },
      "source": [
        "<a href=\"https://colab.research.google.com/github/JanXanevo/CartAnalysis/blob/main/01_snowflakeImport_03_11_23.ipynb\" target=\"_parent\"><img src=\"https://colab.research.google.com/assets/colab-badge.svg\" alt=\"Open In Colab\"/></a>"
      ]
    },
    {
      "cell_type": "code",
      "source": [
        "!pip install snowflake-sqlalchemy"
      ],
      "metadata": {
        "id": "XcCJqSsFQE1Q",
        "colab": {
          "base_uri": "https://localhost:8080/"
        },
        "outputId": "08a3c1f0-41b5-48ab-e03a-3fb9b5b8c144"
      },
      "execution_count": null,
      "outputs": [
        {
          "output_type": "stream",
          "name": "stdout",
          "text": [
            "Collecting snowflake-sqlalchemy\n",
            "  Downloading snowflake_sqlalchemy-1.5.1-py2.py3-none-any.whl (39 kB)\n",
            "Collecting sqlalchemy<2.0.0,>=1.4.0 (from snowflake-sqlalchemy)\n",
            "  Downloading SQLAlchemy-1.4.51-cp310-cp310-manylinux_2_5_x86_64.manylinux1_x86_64.manylinux_2_17_x86_64.manylinux2014_x86_64.whl (1.6 MB)\n",
            "\u001b[2K     \u001b[90m━━━━━━━━━━━━━━━━━━━━━━━━━━━━━━━━━━━━━━━━\u001b[0m \u001b[32m1.6/1.6 MB\u001b[0m \u001b[31m16.9 MB/s\u001b[0m eta \u001b[36m0:00:00\u001b[0m\n",
            "\u001b[?25hCollecting snowflake-connector-python<4.0.0 (from snowflake-sqlalchemy)\n",
            "  Downloading snowflake_connector_python-3.6.0-cp310-cp310-manylinux_2_17_x86_64.manylinux2014_x86_64.whl (2.5 MB)\n",
            "\u001b[2K     \u001b[90m━━━━━━━━━━━━━━━━━━━━━━━━━━━━━━━━━━━━━━━━\u001b[0m \u001b[32m2.5/2.5 MB\u001b[0m \u001b[31m62.7 MB/s\u001b[0m eta \u001b[36m0:00:00\u001b[0m\n",
            "\u001b[?25hCollecting asn1crypto<2.0.0,>0.24.0 (from snowflake-connector-python<4.0.0->snowflake-sqlalchemy)\n",
            "  Downloading asn1crypto-1.5.1-py2.py3-none-any.whl (105 kB)\n",
            "\u001b[2K     \u001b[90m━━━━━━━━━━━━━━━━━━━━━━━━━━━━━━━━━━━━━━━━\u001b[0m \u001b[32m105.0/105.0 kB\u001b[0m \u001b[31m8.5 MB/s\u001b[0m eta \u001b[36m0:00:00\u001b[0m\n",
            "\u001b[?25hRequirement already satisfied: cffi<2.0.0,>=1.9 in /usr/local/lib/python3.10/dist-packages (from snowflake-connector-python<4.0.0->snowflake-sqlalchemy) (1.16.0)\n",
            "Requirement already satisfied: cryptography<42.0.0,>=3.1.0 in /usr/local/lib/python3.10/dist-packages (from snowflake-connector-python<4.0.0->snowflake-sqlalchemy) (41.0.7)\n",
            "Requirement already satisfied: pyOpenSSL<24.0.0,>=16.2.0 in /usr/local/lib/python3.10/dist-packages (from snowflake-connector-python<4.0.0->snowflake-sqlalchemy) (23.3.0)\n",
            "Requirement already satisfied: pyjwt<3.0.0 in /usr/lib/python3/dist-packages (from snowflake-connector-python<4.0.0->snowflake-sqlalchemy) (2.3.0)\n",
            "Requirement already satisfied: pytz in /usr/local/lib/python3.10/dist-packages (from snowflake-connector-python<4.0.0->snowflake-sqlalchemy) (2023.3.post1)\n",
            "Requirement already satisfied: requests<3.0.0 in /usr/local/lib/python3.10/dist-packages (from snowflake-connector-python<4.0.0->snowflake-sqlalchemy) (2.31.0)\n",
            "Requirement already satisfied: packaging in /usr/local/lib/python3.10/dist-packages (from snowflake-connector-python<4.0.0->snowflake-sqlalchemy) (23.2)\n",
            "Requirement already satisfied: charset-normalizer<4,>=2 in /usr/local/lib/python3.10/dist-packages (from snowflake-connector-python<4.0.0->snowflake-sqlalchemy) (3.3.2)\n",
            "Requirement already satisfied: idna<4,>=2.5 in /usr/local/lib/python3.10/dist-packages (from snowflake-connector-python<4.0.0->snowflake-sqlalchemy) (3.6)\n",
            "Requirement already satisfied: certifi>=2017.4.17 in /usr/local/lib/python3.10/dist-packages (from snowflake-connector-python<4.0.0->snowflake-sqlalchemy) (2023.11.17)\n",
            "Requirement already satisfied: typing-extensions<5,>=4.3 in /usr/local/lib/python3.10/dist-packages (from snowflake-connector-python<4.0.0->snowflake-sqlalchemy) (4.5.0)\n",
            "Requirement already satisfied: filelock<4,>=3.5 in /usr/local/lib/python3.10/dist-packages (from snowflake-connector-python<4.0.0->snowflake-sqlalchemy) (3.13.1)\n",
            "Requirement already satisfied: sortedcontainers>=2.4.0 in /usr/local/lib/python3.10/dist-packages (from snowflake-connector-python<4.0.0->snowflake-sqlalchemy) (2.4.0)\n",
            "Collecting platformdirs<4.0.0,>=2.6.0 (from snowflake-connector-python<4.0.0->snowflake-sqlalchemy)\n",
            "  Downloading platformdirs-3.11.0-py3-none-any.whl (17 kB)\n",
            "Collecting tomlkit (from snowflake-connector-python<4.0.0->snowflake-sqlalchemy)\n",
            "  Downloading tomlkit-0.12.3-py3-none-any.whl (37 kB)\n",
            "Requirement already satisfied: greenlet!=0.4.17 in /usr/local/lib/python3.10/dist-packages (from sqlalchemy<2.0.0,>=1.4.0->snowflake-sqlalchemy) (3.0.3)\n",
            "Requirement already satisfied: pycparser in /usr/local/lib/python3.10/dist-packages (from cffi<2.0.0,>=1.9->snowflake-connector-python<4.0.0->snowflake-sqlalchemy) (2.21)\n",
            "Requirement already satisfied: urllib3<3,>=1.21.1 in /usr/local/lib/python3.10/dist-packages (from requests<3.0.0->snowflake-connector-python<4.0.0->snowflake-sqlalchemy) (2.0.7)\n",
            "Installing collected packages: asn1crypto, tomlkit, sqlalchemy, platformdirs, snowflake-connector-python, snowflake-sqlalchemy\n",
            "  Attempting uninstall: sqlalchemy\n",
            "    Found existing installation: SQLAlchemy 2.0.24\n",
            "    Uninstalling SQLAlchemy-2.0.24:\n",
            "      Successfully uninstalled SQLAlchemy-2.0.24\n",
            "  Attempting uninstall: platformdirs\n",
            "    Found existing installation: platformdirs 4.1.0\n",
            "    Uninstalling platformdirs-4.1.0:\n",
            "      Successfully uninstalled platformdirs-4.1.0\n",
            "\u001b[31mERROR: pip's dependency resolver does not currently take into account all the packages that are installed. This behaviour is the source of the following dependency conflicts.\n",
            "ipython-sql 0.5.0 requires sqlalchemy>=2.0, but you have sqlalchemy 1.4.51 which is incompatible.\u001b[0m\u001b[31m\n",
            "\u001b[0mSuccessfully installed asn1crypto-1.5.1 platformdirs-3.11.0 snowflake-connector-python-3.6.0 snowflake-sqlalchemy-1.5.1 sqlalchemy-1.4.51 tomlkit-0.12.3\n"
          ]
        }
      ]
    },
    {
      "cell_type": "code",
      "source": [
        "import pandas as pd"
      ],
      "metadata": {
        "id": "KZyMe10q9zkY"
      },
      "execution_count": null,
      "outputs": []
    },
    {
      "cell_type": "code",
      "source": [
        "from sqlalchemy import create_engine\n",
        "\n",
        "# snowflake login connection\n",
        "SNOWFLAKE_USER = 'GUGELM'\n",
        "SNOWFLAKE_PASSWORD = 'pGtYSXfdP9hJTbP'\n",
        "SNOWFLAKE_ACC_ID = 'xt02912.europe-west4.gcp'\n",
        "SNOWFLAKE_DB = 'DC_BI_DB'\n",
        "SNOWFLAKE_SCHEMA = 'RPT_PRODUCTCREATION'\n",
        "SNOWFLAKE_ROLE = 'ROLE_PT_PRODUCTCREATION'\n",
        "SNOWFLAKE_WH = 'COMPUTE_WH'\n",
        "\n",
        " #Create the Snowflake connection string\n",
        "connection_string = f'snowflake://{SNOWFLAKE_USER}:{SNOWFLAKE_PASSWORD}@{SNOWFLAKE_ACC_ID}/{SNOWFLAKE_DB}/{SNOWFLAKE_SCHEMA}?role={SNOWFLAKE_ROLE}&warehouse={SNOWFLAKE_WH}'\n",
        "\n",
        " # Create the SQLAlchemy engine\n",
        "engine = create_engine(connection_string)\n",
        "\n",
        " # Test the connection\n",
        "connection = engine.connect()\n",
        "\n",
        "sql_query = \"\"\"\n",
        "SELECT HYBRIS_BESTELLNUMMER, PRODUKTNR, BUSERPK, VERKAUFSBELEG_DATUM, MENGE\n",
        "FROM \"DC_BI_DB\".\"RPT_PRODUCTCREATION\".\"BASKETS_RECEIPTS_ONLINE_V\"\n",
        "WHERE BUSERPK IS NOT NULL\n",
        "AND MENGE > 0\n",
        "QUALIFY HYBRIS_BESTELLNUMMER = LAG(HYBRIS_BESTELLNUMMER) OVER (ORDER BY HYBRIS_BESTELLNUMMER)\n",
        "OR HYBRIS_BESTELLNUMMER = LEAD(HYBRIS_BESTELLNUMMER) OVER (ORDER BY HYBRIS_BESTELLNUMMER)\n",
        "ORDER BY HYBRIS_BESTELLNUMMER\n",
        "\"\"\"\n",
        "\n",
        " # Perform SQL operations\n",
        "onlineBaskets = connection.execute(sql_query)\n",
        "\n",
        "\n",
        "# Close the connection when done\n",
        "connection.close()"
      ],
      "metadata": {
        "id": "6W_bUFAsYEK5",
        "colab": {
          "base_uri": "https://localhost:8080/"
        },
        "outputId": "af61de74-be71-42be-e020-37d1900ab380"
      },
      "execution_count": null,
      "outputs": [
        {
          "output_type": "stream",
          "name": "stderr",
          "text": [
            "<ipython-input-3-c0397d876b95>:32: RemovedIn20Warning: Deprecated API features detected! These feature(s) are not compatible with SQLAlchemy 2.0. To prevent incompatible upgrades prior to updating applications, ensure requirements files are pinned to \"sqlalchemy<2.0\". Set environment variable SQLALCHEMY_WARN_20=1 to show all deprecation warnings.  Set environment variable SQLALCHEMY_SILENCE_UBER_WARNING=1 to silence this message. (Background on SQLAlchemy 2.0 at: https://sqlalche.me/e/b8d9)\n",
            "  onlineBaskets = connection.execute(sql_query)\n"
          ]
        }
      ]
    },
    {
      "cell_type": "code",
      "source": [
        "dfOnlineBaskets = pd.DataFrame(onlineBaskets)"
      ],
      "metadata": {
        "id": "4lL7HQ3mc51K"
      },
      "execution_count": null,
      "outputs": []
    },
    {
      "cell_type": "code",
      "source": [
        "from google.colab import drive\n",
        "\n",
        "drive.mount('/content/drive')\n",
        "\n",
        "df_path ='/content/drive/My Drive/BAHAG/Data/onlineProducts.csv'\n",
        "dfOnlineBaskets.to_csv(df_path, index=False)"
      ],
      "metadata": {
        "colab": {
          "base_uri": "https://localhost:8080/"
        },
        "id": "rTkcYktjBsNN",
        "outputId": "6ab19857-c298-495c-800c-9ba1685233eb"
      },
      "execution_count": null,
      "outputs": [
        {
          "output_type": "stream",
          "name": "stdout",
          "text": [
            "Mounted at /content/drive\n"
          ]
        }
      ]
    }
  ]
}