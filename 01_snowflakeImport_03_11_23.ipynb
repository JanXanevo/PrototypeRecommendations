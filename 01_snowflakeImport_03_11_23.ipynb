{
  "nbformat": 4,
  "nbformat_minor": 0,
  "metadata": {
    "colab": {
      "provenance": [],
      "machine_shape": "hm",
      "authorship_tag": "ABX9TyNbwtAAThFo16Ok9uIxoViJ",
      "include_colab_link": true
    },
    "kernelspec": {
      "name": "python3",
      "display_name": "Python 3"
    },
    "language_info": {
      "name": "python"
    }
  },
  "cells": [
    {
      "cell_type": "markdown",
      "metadata": {
        "id": "view-in-github",
        "colab_type": "text"
      },
      "source": [
        "<a href=\"https://colab.research.google.com/github/JanXanevo/CartAnalysis/blob/main/01_snowflakeImport_03_11_23.ipynb\" target=\"_parent\"><img src=\"https://colab.research.google.com/assets/colab-badge.svg\" alt=\"Open In Colab\"/></a>"
      ]
    },
    {
      "cell_type": "code",
      "source": [
        "!pip install snowflake-sqlalchemy"
      ],
      "metadata": {
        "id": "XcCJqSsFQE1Q"
      },
      "execution_count": null,
      "outputs": []
    },
    {
      "cell_type": "code",
      "source": [
        "import pandas as pd"
      ],
      "metadata": {
        "id": "KZyMe10q9zkY"
      },
      "execution_count": null,
      "outputs": []
    },
    {
      "cell_type": "code",
      "source": [
        "from sqlalchemy import create_engine\n",
        "\n",
        "# snowflake login connection\n",
        "SNOWFLAKE_USER = '-'\n",
        "SNOWFLAKE_PASSWORD = '-'\n",
        "SNOWFLAKE_ACC_ID = '-'\n",
        "SNOWFLAKE_DB = '-'\n",
        "SNOWFLAKE_SCHEMA = '-'\n",
        "SNOWFLAKE_ROLE = '-'\n",
        "SNOWFLAKE_WH = '-'\n",
        "\n",
        " #Create the Snowflake connection string\n",
        "connection_string = f'snowflake://{SNOWFLAKE_USER}:{SNOWFLAKE_PASSWORD}@{SNOWFLAKE_ACC_ID}/{SNOWFLAKE_DB}/{SNOWFLAKE_SCHEMA}?role={SNOWFLAKE_ROLE}&warehouse={SNOWFLAKE_WH}'\n",
        "\n",
        " # Create the SQLAlchemy engine\n",
        "engine = create_engine(connection_string)\n",
        "\n",
        " # Test the connection\n",
        "connection = engine.connect()\n",
        "\n",
        "sql_query = \"\"\"\n",
        "SELECT HYBRIS_BESTELLNUMMER, PRODUKTNR, BUSERPK, VERKAUFSBELEG_DATUM, MENGE\n",
        "FROM \"DC_BI_DB\".\"RPT_PRODUCTCREATION\".\"BASKETS_RECEIPTS_ONLINE_V\"\n",
        "WHERE BUSERPK IS NOT NULL\n",
        "AND MENGE > 0\n",
        "QUALIFY HYBRIS_BESTELLNUMMER = LAG(HYBRIS_BESTELLNUMMER) OVER (ORDER BY HYBRIS_BESTELLNUMMER)\n",
        "OR HYBRIS_BESTELLNUMMER = LEAD(HYBRIS_BESTELLNUMMER) OVER (ORDER BY HYBRIS_BESTELLNUMMER)\n",
        "ORDER BY HYBRIS_BESTELLNUMMER\n",
        "\"\"\"\n",
        "\n",
        " # Perform SQL operations\n",
        "onlineBaskets = connection.execute(sql_query)\n",
        "\n",
        "\n",
        "# Close the connection when done\n",
        "connection.close()"
      ],
      "metadata": {
        "id": "6W_bUFAsYEK5"
      },
      "execution_count": null,
      "outputs": []
    },
    {
      "cell_type": "code",
      "source": [
        "dfOnlineBaskets = pd.DataFrame(onlineBaskets)"
      ],
      "metadata": {
        "id": "4lL7HQ3mc51K"
      },
      "execution_count": null,
      "outputs": []
    },
    {
      "cell_type": "code",
      "source": [
        "from google.colab import drive\n",
        "\n",
        "drive.mount('/content/drive')\n",
        "\n",
        "df_path ='/content/drive/My Drive/BAHAG/Data/onlineProducts.csv'\n",
        "dfOnlineBaskets.to_csv(df_path, index=False)"
      ],
      "metadata": {
        "colab": {
          "base_uri": "https://localhost:8080/"
        },
        "id": "rTkcYktjBsNN",
        "outputId": "6ab19857-c298-495c-800c-9ba1685233eb"
      },
      "execution_count": null,
      "outputs": [
        {
          "output_type": "stream",
          "name": "stdout",
          "text": [
            "Mounted at /content/drive\n"
          ]
        }
      ]
    }
  ]
}
