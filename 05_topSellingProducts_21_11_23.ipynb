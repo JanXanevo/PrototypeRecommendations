{
  "nbformat": 4,
  "nbformat_minor": 0,
  "metadata": {
    "colab": {
      "provenance": [],
      "machine_shape": "hm",
      "gpuType": "V100",
      "authorship_tag": "ABX9TyMmQHS8f72WvMf+dwMiaB4J",
      "include_colab_link": true
    },
    "kernelspec": {
      "name": "python3",
      "display_name": "Python 3"
    },
    "language_info": {
      "name": "python"
    },
    "accelerator": "GPU"
  },
  "cells": [
    {
      "cell_type": "markdown",
      "metadata": {
        "id": "view-in-github",
        "colab_type": "text"
      },
      "source": [
        "<a href=\"https://colab.research.google.com/github/JanXanevo/PrototypeRecommendations/blob/main/05_topSellingProducts_21_11_23.ipynb\" target=\"_parent\"><img src=\"https://colab.research.google.com/assets/colab-badge.svg\" alt=\"Open In Colab\"/></a>"
      ]
    },
    {
      "cell_type": "code",
      "execution_count": null,
      "metadata": {
        "id": "dRa7lWj8gZlW"
      },
      "outputs": [],
      "source": [
        "import pandas as pd"
      ]
    },
    {
      "cell_type": "code",
      "source": [
        "from google.colab import drive\n",
        "drive.mount('/content/drive')"
      ],
      "metadata": {
        "id": "fAWYPYdFgu9A"
      },
      "execution_count": null,
      "outputs": []
    },
    {
      "cell_type": "code",
      "source": [
        "dfOnline = pd.read_csv('/content/drive/MyDrive/BAHAG/Data/onlineGardenProducts.csv')\n",
        "dfOffline = pd.read_csv('/content/drive/MyDrive/BAHAG/Data/offlineGardenProducts.csv')"
      ],
      "metadata": {
        "id": "KmJFEU5bgy9Z"
      },
      "execution_count": null,
      "outputs": []
    },
    {
      "cell_type": "code",
      "source": [
        "# online"
      ],
      "metadata": {
        "id": "oaMj7erTqTPP"
      },
      "execution_count": null,
      "outputs": []
    },
    {
      "cell_type": "code",
      "source": [
        "top_PNKOnline = dfOnline['PRODUCT_NAME_CATEGORY'].value_counts().head(20)\n",
        "top_PNKOnline"
      ],
      "metadata": {
        "id": "pezcqfI6g1J7"
      },
      "execution_count": null,
      "outputs": []
    },
    {
      "cell_type": "code",
      "source": [
        "top_produktNrOnline = dfOnline['produktnr'].value_counts().head(10)\n",
        "top_produktNrOnline"
      ],
      "metadata": {
        "id": "dWkQb4iThay-"
      },
      "execution_count": null,
      "outputs": []
    },
    {
      "cell_type": "code",
      "source": [
        "top_produktNameOnline = dfOnline['SAP_NAME'].value_counts().head(50)\n",
        "top_produktNameOnline"
      ],
      "metadata": {
        "id": "mcaFaprJhpsN"
      },
      "execution_count": null,
      "outputs": []
    },
    {
      "cell_type": "code",
      "source": [
        "# offline"
      ],
      "metadata": {
        "id": "TnDcVcY4qQqm"
      },
      "execution_count": null,
      "outputs": []
    },
    {
      "cell_type": "code",
      "source": [
        "top_PNKOffline = dfOffline['PRODUCT_NAME_CATEGORY'].value_counts().head(20)\n",
        "top_PNKOffline"
      ],
      "metadata": {
        "id": "P_q-zhRRqVtw"
      },
      "execution_count": null,
      "outputs": []
    },
    {
      "cell_type": "code",
      "source": [
        "top_produktNrOffline = dfOffline['produktnr'].value_counts().head(10)\n",
        "top_produktNrOffline"
      ],
      "metadata": {
        "id": "rSGRC14SqYot"
      },
      "execution_count": null,
      "outputs": []
    },
    {
      "cell_type": "code",
      "source": [
        "top_produktNameOffline = dfOffline['SAP_NAME'].value_counts().head(50)\n",
        "top_produktNameOffline"
      ],
      "metadata": {
        "id": "VXejXMprqbQW"
      },
      "execution_count": null,
      "outputs": []
    },
    {
      "cell_type": "code",
      "source": [
        "# Überlappung der Ergebnisse con Online & Offline Überprüfen\n",
        "# Vorsicht: Offline steht hierbei viel stärker im Gewicht bei der Gesamtmenge am Ende\n",
        "\n",
        "set_offline = set(top_produktNameOffline.index)\n",
        "set_online = set(top_produktNameOnline.index)\n",
        "\n",
        "overlap_count = {value: dfOffline['SAP_NAME'].isin([value]).sum() + dfOnline['SAP_NAME'].isin([value]).sum() for value in set_offline.intersection(set_online)}\n",
        "sorted_overlap = sorted(overlap_count.items(), key=lambda x: x[1], reverse=True)\n",
        "\n",
        "sorted_overlap"
      ],
      "metadata": {
        "id": "gL-p260rv-6j"
      },
      "execution_count": null,
      "outputs": []
    },
    {
      "cell_type": "code",
      "source": [
        "set_offline = set(top_PNKOffline.index)\n",
        "set_online = set(top_PNKOnline.index)\n",
        "\n",
        "overlap_count = {value: dfOffline['PRODUCT_NAME_CATEGORY'].isin([value]).sum() + dfOnline['PRODUCT_NAME_CATEGORY'].isin([value]).sum() for value in set_offline.intersection(set_online)}\n",
        "sorted_overlap = sorted(overlap_count.items(), key=lambda x: x[1], reverse=True)\n",
        "\n",
        "sorted_overlap"
      ],
      "metadata": {
        "id": "l63Iw-aOyLbe"
      },
      "execution_count": null,
      "outputs": []
    }
  ]
}