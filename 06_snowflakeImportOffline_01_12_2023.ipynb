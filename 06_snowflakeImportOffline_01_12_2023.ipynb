{
  "nbformat": 4,
  "nbformat_minor": 0,
  "metadata": {
    "colab": {
      "provenance": [],
      "machine_shape": "hm",
      "gpuType": "V100",
      "authorship_tag": "ABX9TyNM6aD19bR9fswmhaRvqAWe",
      "include_colab_link": true
    },
    "kernelspec": {
      "name": "python3",
      "display_name": "Python 3"
    },
    "language_info": {
      "name": "python"
    },
    "accelerator": "GPU"
  },
  "cells": [
    {
      "cell_type": "markdown",
      "metadata": {
        "id": "view-in-github",
        "colab_type": "text"
      },
      "source": [
        "<a href=\"https://colab.research.google.com/github/JanXanevo/PrototypeRecommendations/blob/main/06_snowflakeImportOffline_01_12_2023.ipynb\" target=\"_parent\"><img src=\"https://colab.research.google.com/assets/colab-badge.svg\" alt=\"Open In Colab\"/></a>"
      ]
    },
    {
      "cell_type": "code",
      "execution_count": null,
      "metadata": {
        "id": "6wXUXrgl8-0B"
      },
      "outputs": [],
      "source": [
        "!pip install snowflake-sqlalchemy"
      ]
    },
    {
      "cell_type": "code",
      "source": [
        "import pandas as pd\n",
        "import sqlalchemy\n",
        "from sqlalchemy import create_engine\n",
        "from sqlalchemy.sql import text"
      ],
      "metadata": {
        "id": "9XtKdkgM9JDQ"
      },
      "execution_count": null,
      "outputs": []
    },
    {
      "cell_type": "code",
      "source": [
        "from google.colab import drive\n",
        "import os\n",
        "\n",
        "\n",
        "# Warengruppen und PNKs aus dem Gartenbereich laden\n",
        "\n",
        "drive.mount('/content/drive')\n",
        "\n",
        "os.chdir('/content/drive/My Drive/BAHAG/Data')\n",
        "\n",
        "df2 = pd.read_excel('/content/drive/My Drive/BAHAG/Data/Kopie von Garten_WGR_PNK.xlsx')"
      ],
      "metadata": {
        "id": "1SbPsT33-qb2"
      },
      "execution_count": null,
      "outputs": []
    },
    {
      "cell_type": "code",
      "source": [
        "GartenPNr =df2['VARIANT_PRODUCT'].tolist()\n",
        "GartenPNr = [value for value in GartenPNr if isinstance(value, (int, float))]\n"
      ],
      "metadata": {
        "id": "14_5kofznhVo"
      },
      "execution_count": null,
      "outputs": []
    },
    {
      "cell_type": "code",
      "source": [
        "# snowflake login connection\n",
        "SNOWFLAKE_USER = 'GUGELM'\n",
        "SNOWFLAKE_PASSWORD = 'pGtYSXfdP9hJTbP'\n",
        "SNOWFLAKE_ACC_ID = 'xt02912.europe-west4.gcp'\n",
        "SNOWFLAKE_DB = 'DC_BI_DB'\n",
        "SNOWFLAKE_SCHEMA = 'RPT_PRODUCTCREATION'\n",
        "SNOWFLAKE_ROLE = 'ROLE_PT_PRODUCTCREATION'\n",
        "SNOWFLAKE_WH = 'COMPUTE_WH'\n",
        "\n",
        "# Snowflake-Verbindungszeichenfolge erstellen\n",
        "connection_string = f'snowflake://{SNOWFLAKE_USER}:{SNOWFLAKE_PASSWORD}@{SNOWFLAKE_ACC_ID}/{SNOWFLAKE_DB}/{SNOWFLAKE_SCHEMA}?role={SNOWFLAKE_ROLE}&warehouse={SNOWFLAKE_WH}'\n",
        "\n",
        "# SQLAlchemy-Engine erstellen\n",
        "engine = create_engine(connection_string)\n",
        "\n",
        "# Teste die Verbindung\n",
        "connection = engine.connect()\n",
        "\n",
        "# Teile die Liste in Gruppen von 1000 Werten auf\n",
        "group_size = 1000\n",
        "grouped_values = [GartenPNr[i:i + group_size] for i in range(0, len(GartenPNr), group_size)]\n",
        "\n",
        "all_results = []\n",
        "\n",
        "# Führe separate Abfragen für jede Gruppe durch\n",
        "for group in grouped_values:\n",
        "    placeholders = ','.join([':%s' % i for i in range(len(group))])\n",
        "\n",
        "    sql_query = f\"\"\"\n",
        "    SELECT PRODUKTNR, VERKAUFSBELEG_DATUM, MENGE\n",
        "    FROM \"DC_BI_DB\".\"RPT_PRODUCTCREATION\".\"BASKETS_RECEIPTS_STATIONARY_V\"\n",
        "    WHERE MENGE > 0\n",
        "    AND TRY_CAST(PRODUKTNR AS NUMBER) IS NOT NULL\n",
        "    AND PRODUKTNR IN ({placeholders})\n",
        "    QUALIFY VERKAUFSBELEG_DATUM = LAG(VERKAUFSBELEG_DATUM) OVER (ORDER BY VERKAUFSBELEG_DATUM)\n",
        "    OR VERKAUFSBELEG_DATUM = LEAD(VERKAUFSBELEG_DATUM) OVER (ORDER BY VERKAUFSBELEG_DATUM)\n",
        "    ORDER BY VERKAUFSBELEG_DATUM\n",
        "    \"\"\"\n",
        "\n",
        "    result = connection.execute(sqlalchemy.text(sql_query), **{str(i): val for i, val in enumerate(group)})\n",
        "\n",
        "    # Füge die Ergebnisse dieser Abfrage zur Liste hinzu\n",
        "    all_results.append(pd.DataFrame(result.fetchall(), columns=result.keys()))\n",
        "\n",
        "# Verbinde alle DataFrames in der Liste zu einem einzigen DataFrame\n",
        "final_dataframe = pd.concat(all_results, ignore_index=True)\n",
        "\n",
        "# Nun ist das finale DataFrame mit allen Ergebnissen verfügbar\n",
        "print(final_dataframe)"
      ],
      "metadata": {
        "id": "Wc9kSo9R-BHh"
      },
      "execution_count": null,
      "outputs": []
    },
    {
      "cell_type": "code",
      "source": [
        "drive.mount('/content/drive')\n",
        "\n",
        "df_path ='/content/drive/My Drive/BAHAG/Data/offlineProducts.csv'\n",
        "final_dataframe.to_csv(df_path, index=False)"
      ],
      "metadata": {
        "id": "PIsJuNQg9VlW"
      },
      "execution_count": null,
      "outputs": []
    }
  ]
}