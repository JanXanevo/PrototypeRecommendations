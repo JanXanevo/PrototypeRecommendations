{
  "nbformat": 4,
  "nbformat_minor": 0,
  "metadata": {
    "colab": {
      "provenance": [],
      "mount_file_id": "1ThpBLqwQFgq0jg4mMvexxuzFGWeRqJK-",
      "authorship_tag": "ABX9TyMHXMdrP1sVg7SVfG7u5V2l",
      "include_colab_link": true
    },
    "kernelspec": {
      "name": "python3",
      "display_name": "Python 3"
    },
    "language_info": {
      "name": "python"
    }
  },
  "cells": [
    {
      "cell_type": "markdown",
      "metadata": {
        "id": "view-in-github",
        "colab_type": "text"
      },
      "source": [
        "<a href=\"https://colab.research.google.com/github/JanXanevo/PrototypeRecommendations/blob/main/11_productMatcher.ipynb\" target=\"_parent\"><img src=\"https://colab.research.google.com/assets/colab-badge.svg\" alt=\"Open In Colab\"/></a>"
      ]
    },
    {
      "cell_type": "code",
      "execution_count": null,
      "metadata": {
        "id": "NjjAfBiCofFq"
      },
      "outputs": [],
      "source": [
        "import pandas as pd"
      ]
    },
    {
      "cell_type": "code",
      "source": [
        "dfOnline = pd.read_csv('/content/drive/MyDrive/BAHAG/Data/onlineGardenProducts.csv')"
      ],
      "metadata": {
        "id": "P3vkqQAfpevn"
      },
      "execution_count": null,
      "outputs": []
    },
    {
      "cell_type": "code",
      "source": [
        "dfOffline = pd.read_csv('/content/drive/MyDrive/BAHAG/Data/offlineGardenProducts.csv')"
      ],
      "metadata": {
        "id": "V6sMj4z2M-In"
      },
      "execution_count": null,
      "outputs": []
    },
    {
      "cell_type": "code",
      "source": [
        "dfOffline.info()"
      ],
      "metadata": {
        "id": "QCJ0oIFKNvkQ"
      },
      "execution_count": null,
      "outputs": []
    },
    {
      "cell_type": "code",
      "source": [
        "import pandas as pd\n",
        "\n",
        "def find_most_frequent_product(df, input_number, input_category):\n",
        "    # Bestellnumern mit Produkt enthalten\n",
        "    order_numbers = df[(df['produktnr'] == input_number)]['hybris_bestellnummer'].unique()\n",
        "\n",
        "    # Counter\n",
        "    product_count = {}\n",
        "\n",
        "    # Iteration über Bestellungen, Counter hochsetzen\n",
        "    for order_number in order_numbers:\n",
        "        order_products = df[df['hybris_bestellnummer'] == order_number]\n",
        "        for index, row in order_products.iterrows():\n",
        "            product = row['produktnr']\n",
        "            category = row['PRODUCT_NAME_CATEGORY']\n",
        "            if product != input_number and category == input_category:\n",
        "                # Nur Produkte aus Zielkategorie des Projekts\n",
        "                if product in product_count:\n",
        "                    product_count[product] += 1\n",
        "                else:\n",
        "                    product_count[product] = 1\n",
        "\n",
        "    most_frequent_product = max(product_count, key=product_count.get)\n",
        "\n",
        "    return most_frequent_product\n",
        "\n",
        "\n",
        "input_product_number = 30531084\n",
        "input_category = 'Schnellladegerät'\n",
        "\n",
        "result = find_most_frequent_product(dfOnline, input_product_number, input_category)\n",
        "print(result)\n"
      ],
      "metadata": {
        "id": "DsXKmnt71ENS"
      },
      "execution_count": null,
      "outputs": []
    },
    {
      "cell_type": "code",
      "source": [
        "def topProductInCategory(df, category):\n",
        "  ordersInCategory = df[df['PRODUCT_NAME_CATEGORY'] == category]\n",
        "  product_counts = ordersInCategory['produktnr'].value_counts().head(1)\n",
        "  #most_frequent_product = product_counts.idxmax()\n",
        "  return product_counts\n",
        "\n",
        "\n",
        "\n",
        "PNK = 'Schnellladegerät'\n",
        "result = topProductInCategory(dfOnline, PNK)\n",
        "print(result)"
      ],
      "metadata": {
        "id": "-UJ6YrLYk4U-"
      },
      "execution_count": null,
      "outputs": []
    }
  ]
}