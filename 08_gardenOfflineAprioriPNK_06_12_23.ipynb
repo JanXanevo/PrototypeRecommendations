{
  "nbformat": 4,
  "nbformat_minor": 0,
  "metadata": {
    "colab": {
      "provenance": [],
      "machine_shape": "hm",
      "mount_file_id": "1KEmE47vyJXxseqvFdt7Xxeu-8JmJVtcr",
      "authorship_tag": "ABX9TyPzdkV+gZ4tiqCmnYf+XN20",
      "include_colab_link": true
    },
    "kernelspec": {
      "name": "python3",
      "display_name": "Python 3"
    },
    "language_info": {
      "name": "python"
    }
  },
  "cells": [
    {
      "cell_type": "markdown",
      "metadata": {
        "id": "view-in-github",
        "colab_type": "text"
      },
      "source": [
        "<a href=\"https://colab.research.google.com/github/JanXanevo/PrototypeRecommendations/blob/main/08_gardenOfflineAprioriPNK_06_12_23.ipynb\" target=\"_parent\"><img src=\"https://colab.research.google.com/assets/colab-badge.svg\" alt=\"Open In Colab\"/></a>"
      ]
    },
    {
      "cell_type": "code",
      "execution_count": null,
      "metadata": {
        "id": "08k5mrgwHhN2"
      },
      "outputs": [],
      "source": [
        "import pandas as pd\n",
        "import numpy as np\n",
        "from mlxtend.frequent_patterns import apriori, association_rules\n",
        "from mlxtend.preprocessing import TransactionEncoder"
      ]
    },
    {
      "cell_type": "code",
      "source": [
        "# Gartenprodukte aus online laden\n",
        "df = pd.read_csv('/content/drive/MyDrive/BAHAG/Data/offlineGardenProducts.csv')"
      ],
      "metadata": {
        "id": "c3P-3V1KHu5k"
      },
      "execution_count": null,
      "outputs": []
    },
    {
      "cell_type": "code",
      "source": [
        "# Gartenprodukte nach Warenkorb gruppieren\n",
        "grouped_data = df.groupby('verkaufsbeleg_datum')['PRODUCT_NAME_CATEGORY'].apply(list).reset_index()"
      ],
      "metadata": {
        "id": "wzvXeYmvN5UU"
      },
      "execution_count": null,
      "outputs": []
    },
    {
      "cell_type": "code",
      "source": [
        "# Bagging über iterieren von Vorschleife über sampling\n",
        "from mlxtend.preprocessing import TransactionEncoder\n",
        "\n",
        "result_rules = []\n",
        "n = 3028734\n",
        "k = 10\n",
        "nk = int(np.ceil((n/k)*1.2))\n",
        "# reasoning: System-RAM und Abdeckung aller Daten\n",
        "\n",
        "for i in range(k):\n",
        "\n",
        "\n",
        "\n",
        "  random_sample = grouped_data.sample(n=nk, random_state=42)\n",
        "\n",
        "\n",
        "  encoder = TransactionEncoder()\n",
        "  encoded_data = encoder.fit(random_sample['PRODUCT_NAME_CATEGORY']).transform(random_sample['PRODUCT_NAME_CATEGORY'])\n",
        "  df_encoded = pd.DataFrame(encoded_data, columns = encoder.columns_)\n",
        "\n",
        "  frequent_itemsets = apriori(df_encoded, min_support=0.004, use_colnames=True)\n",
        "  rules = association_rules(frequent_itemsets, metric=\"confidence\", min_threshold=0.2)\n",
        "\n",
        "  result_rules.append(rules)\n",
        "\n",
        "\n",
        "\n",
        "combined_rules = pd.concat(result_rules, ignore_index=True)\n",
        "\n",
        "print(combined_rules)\n"
      ],
      "metadata": {
        "id": "ZO50VOPjKQbF"
      },
      "execution_count": null,
      "outputs": []
    },
    {
      "cell_type": "code",
      "source": [
        "df_rules = pd.DataFrame(combined_rules)\n",
        "df_rules = df_rules[['antecedents','consequents']]"
      ],
      "metadata": {
        "id": "US64HvX5tbwx"
      },
      "execution_count": null,
      "outputs": []
    },
    {
      "cell_type": "code",
      "source": [
        "!pip install networkx"
      ],
      "metadata": {
        "id": "InrT92NaFusQ"
      },
      "execution_count": null,
      "outputs": []
    },
    {
      "cell_type": "code",
      "source": [
        "import networkx as nx\n",
        "import matplotlib.pyplot as plt\n",
        "\n",
        "df_exploded = df_rules.explode('antecedents').explode('consequents')\n",
        "\n",
        "# Erstelle einen gerichteten Graphen\n",
        "G = nx.from_pandas_edgelist(df_exploded, 'antecedents', 'consequents', create_using=nx.Graph())\n",
        "\n",
        "# Durchlaufe den Graphen und erstelle für jede verbundene Komponente eine Zeile im DataFrame\n",
        "components = [set(component) for component in nx.connected_components(G)]\n",
        "df_projects = pd.DataFrame({'Projekt': [f'Projekt{i+1}' for i in range(len(components))],\n",
        "                          'VerbundeneKnoten': components})\n",
        "\n",
        "# Zeige das resultierende DataFrame an\n",
        "print(df_projects)"
      ],
      "metadata": {
        "id": "i0xhc3YIk_nz"
      },
      "execution_count": null,
      "outputs": []
    },
    {
      "cell_type": "code",
      "source": [
        "pos = nx.spring_layout(G)\n",
        "nx.draw(G, pos, with_labels=True, node_size=1000, font_size=6)"
      ],
      "metadata": {
        "id": "K3ZNz9g0mfBA"
      },
      "execution_count": null,
      "outputs": []
    },
    {
      "cell_type": "code",
      "source": [
        "new_data = []\n",
        "\n",
        "for index, row in df_projects.iterrows():\n",
        "    project = row['Projekt']\n",
        "    connected_nodes = row['VerbundeneKnoten']\n",
        "\n",
        "    for node in connected_nodes:\n",
        "        new_data.append({'Projekt': project, 'VerbundenerKnoten': node})\n",
        "\n",
        "# Neues DataFrame erstellen\n",
        "projects_ungrouped = pd.DataFrame(new_data)\n"
      ],
      "metadata": {
        "id": "aNqxzhS2Pkzz"
      },
      "execution_count": null,
      "outputs": []
    },
    {
      "cell_type": "code",
      "source": [
        "projects_path ='/content/drive/My Drive/BAHAG/Data/projectsGardenOffline.csv'\n",
        "df_projects.to_csv(projects_path, index=False)\n",
        "\n",
        "projects_ungrouped_path = '/content/drive/My Drive/BAHAG/Data/projectsUngroupedGardenOffline.csv'\n",
        "projects_ungrouped.to_csv(projects_ungrouped_path, index=False)\n"
      ],
      "metadata": {
        "id": "35Jbpnxqe3qT"
      },
      "execution_count": null,
      "outputs": []
    }
  ]
}